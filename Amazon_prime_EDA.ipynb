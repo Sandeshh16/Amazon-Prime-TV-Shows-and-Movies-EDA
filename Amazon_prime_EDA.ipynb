{
  "nbformat": 4,
  "nbformat_minor": 0,
  "metadata": {
    "colab": {
      "provenance": [],
      "collapsed_sections": [
        "vncDsAP0Gaoa",
        "FJNUwmbgGyua",
        "w6K7xa23Elo4",
        "yQaldy8SH6Dl",
        "PH-0ReGfmX4f",
        "mDgbUHAGgjLW",
        "O_i_v8NEhb9l",
        "HhfV-JJviCcP",
        "Y3lxredqlCYt",
        "3RnN4peoiCZX",
        "x71ZqKXriCWQ",
        "7hBIi_osiCS2",
        "JlHwYmJAmNHm",
        "35m5QtbWiB9F",
        "PoPl-ycgm1ru",
        "H0kj-8xxnORC",
        "nA9Y7ga8ng1Z",
        "PBTbrJXOngz2",
        "u3PMJOP6ngxN",
        "dauF4eBmngu3",
        "bKJF3rekwFvQ",
        "MSa1f5Uengrz",
        "GF8Ens_Soomf",
        "0wOQAZs5pc--",
        "K5QZ13OEpz2H",
        "lQ7QKXXCp7Bj",
        "448CDAPjqfQr",
        "KSlN3yHqYklG",
        "t6dVpIINYklI",
        "ijmpgYnKYklI",
        "-JiQyfWJYklI",
        "EM7whBJCYoAo",
        "fge-S5ZAYoAp",
        "85gYPyotYoAp",
        "RoGjAbkUYoAp",
        "4Of9eVA-YrdM",
        "iky9q4vBYrdO",
        "F6T5p64dYrdO",
        "y-Ehk30pYrdP",
        "bamQiAODYuh1",
        "QHF8YVU7Yuh3",
        "GwzvFGzlYuh3",
        "qYpmQ266Yuh3",
        "OH-pJp9IphqM",
        "bbFf2-_FphqN",
        "_ouA3fa0phqN",
        "Seke61FWphqN",
        "PIIx-8_IphqN",
        "t27r6nlMphqO",
        "r2jJGEOYphqO",
        "b0JNsNcRphqO",
        "BZR9WyysphqO",
        "jj7wYXLtphqO",
        "eZrbJ2SmphqO",
        "rFu4xreNphqO",
        "YJ55k-q6phqO",
        "gCFgpxoyphqP",
        "OVtJsKN_phqQ",
        "lssrdh5qphqQ",
        "U2RJ9gkRphqQ",
        "1M8mcRywphqQ",
        "tgIPom80phqQ",
        "JMzcOPDDphqR",
        "x-EpHcCOp1ci",
        "X_VqEhTip1ck",
        "8zGJKyg5p1ck",
        "PVzmfK_Ep1ck",
        "n3dbpmDWp1ck",
        "ylSl6qgtp1ck",
        "ZWILFDl5p1ck",
        "M7G43BXep1ck",
        "Ag9LCva-p1cl",
        "E6MkPsBcp1cl",
        "2cELzS2fp1cl",
        "3MPXvC8up1cl",
        "NC_X3p0fY2L0",
        "UV0SzAkaZNRQ",
        "YPEH6qLeZNRQ",
        "q29F0dvdveiT",
        "EXh0U9oCveiU",
        "22aHeOlLveiV",
        "JcMwzZxoAimU",
        "8G2x9gOozGDZ",
        "gCX9965dhzqZ",
        "gIfDvo9L0UH2"
      ],
      "include_colab_link": true
    },
    "kernelspec": {
      "name": "python3",
      "display_name": "Python 3"
    },
    "language_info": {
      "name": "python"
    }
  },
  "cells": [
    {
      "cell_type": "markdown",
      "metadata": {
        "id": "view-in-github",
        "colab_type": "text"
      },
      "source": [
        "<a href=\"https://colab.research.google.com/github/Sandeshh16/Amazon-Prime-TV-Shows-and-Movies-EDA/blob/main/Amazon_prime_EDA.ipynb\" target=\"_parent\"><img src=\"https://colab.research.google.com/assets/colab-badge.svg\" alt=\"Open In Colab\"/></a>"
      ]
    },
    {
      "cell_type": "markdown",
      "source": [
        "# **Project Name**    - Amazon Prime TV Shows and Movies\n",
        "\n"
      ],
      "metadata": {
        "id": "vncDsAP0Gaoa"
      }
    },
    {
      "cell_type": "markdown",
      "source": [
        "# **Project Summary -**\n",
        "The goal of this project is to perform exploratory data analysis (EDA) on the Amazon Prime Video dataset, focusing on understanding the content catalog of TV shows and movies available on the platform. The analysis uncovers trends, insights, and patterns related to content type, genre distribution, ratings, release years, and regional availability."
      ],
      "metadata": {
        "id": "FJNUwmbgGyua"
      }
    },
    {
      "cell_type": "markdown",
      "source": [
        "# **GitHub Link -**"
      ],
      "metadata": {
        "id": "w6K7xa23Elo4"
      }
    },
    {
      "cell_type": "markdown",
      "source": [
        "Provide your GitHub Link here."
      ],
      "metadata": {
        "id": "h1o69JH3Eqqn"
      }
    },
    {
      "cell_type": "markdown",
      "source": [
        "# **Problem Statement**\n",
        "This dataset was created to analyze all shows available on Amazon Prime Video, allowing us to extract valuable insights such as:\n",
        "\n",
        "Content Diversity: What genres and categories dominate the platform?\n",
        "Regional Availability: How does content distribution vary across different regions?\n",
        "Trends Over Time: How has Amazon Prime’s content library evolved?\n",
        "IMDb Ratings & Popularity: What are the highest-rated or most popular shows on the platform?\n",
        "By analyzing this dataset, businesses, content creators, and data analysts can uncover key trends that influence subscription growth, user engagement, and content investment strategies in the streaming industry.\n"
      ],
      "metadata": {
        "id": "yQaldy8SH6Dl"
      }
    },
    {
      "cell_type": "markdown",
      "source": [
        "**Write Problem Statement Here.**"
      ],
      "metadata": {
        "id": "DpeJGUA3kjGy"
      }
    },
    {
      "cell_type": "markdown",
      "source": [
        "#### **Define Your Business Objective?**"
      ],
      "metadata": {
        "id": "PH-0ReGfmX4f"
      }
    },
    {
      "cell_type": "markdown",
      "source": [
        "Answer Here."
      ],
      "metadata": {
        "id": "PhDvGCAqmjP1"
      }
    },
    {
      "cell_type": "markdown",
      "source": [
        "# **General Guidelines** : -  "
      ],
      "metadata": {
        "id": "mDgbUHAGgjLW"
      }
    },
    {
      "cell_type": "markdown",
      "source": [
        "1.   Well-structured, formatted, and commented code is required.\n",
        "2.   Exception Handling, Production Grade Code & Deployment Ready Code will be a plus. Those students will be awarded some additional credits.\n",
        "     \n",
        "     The additional credits will have advantages over other students during Star Student selection.\n",
        "       \n",
        "             [ Note: - Deployment Ready Code is defined as, the whole .ipynb notebook should be executable in one go\n",
        "                       without a single error logged. ]\n",
        "\n",
        "3.   Each and every logic should have proper comments.\n",
        "4. You may add as many number of charts you want. Make Sure for each and every chart the following format should be answered.\n",
        "        \n",
        "\n",
        "```\n",
        "# Chart visualization code\n",
        "```\n",
        "            \n",
        "\n",
        "*   Why did you pick the specific chart?\n",
        "*   What is/are the insight(s) found from the chart?\n",
        "* Will the gained insights help creating a positive business impact?\n",
        "Are there any insights that lead to negative growth? Justify with specific reason.\n",
        "\n",
        "5. You have to create at least 20 logical & meaningful charts having important insights.\n",
        "\n",
        "\n",
        "[ Hints : - Do the Vizualization in  a structured way while following \"UBM\" Rule.\n",
        "\n",
        "U - Univariate Analysis,\n",
        "\n",
        "B - Bivariate Analysis (Numerical - Categorical, Numerical - Numerical, Categorical - Categorical)\n",
        "\n",
        "M - Multivariate Analysis\n",
        " ]\n",
        "\n",
        "\n",
        "\n"
      ],
      "metadata": {
        "id": "ZrxVaUj-hHfC"
      }
    },
    {
      "cell_type": "markdown",
      "source": [
        "#begin"
      ],
      "metadata": {
        "id": "8YN66_y1MhRg"
      }
    },
    {
      "cell_type": "code",
      "source": [
        "#import libraries\n",
        "import numpy as np\n",
        "import pandas as pd\n",
        "import matplotlib.pyplot as plt\n",
        "import seaborn as sns\n",
        "import warnings\n",
        "warnings.filterwarnings('ignore')"
      ],
      "metadata": {
        "id": "UMGWIULVMoF6"
      },
      "execution_count": null,
      "outputs": []
    },
    {
      "cell_type": "code",
      "source": [
        "#fetch data\n",
        "data1 = pd.read_csv('/content/titles.csv.zip')"
      ],
      "metadata": {
        "id": "sIrVMd9mMruA"
      },
      "execution_count": null,
      "outputs": []
    },
    {
      "cell_type": "code",
      "source": [
        "data2 = pd.read_csv('/content/credits.csv.zip')"
      ],
      "metadata": {
        "id": "apWc54tlNLej"
      },
      "execution_count": null,
      "outputs": []
    },
    {
      "cell_type": "code",
      "source": [
        "data1.columns"
      ],
      "metadata": {
        "colab": {
          "base_uri": "https://localhost:8080/"
        },
        "id": "_WHPYOliNTn3",
        "outputId": "29c604b4-a14a-47a1-eeb8-6d101f9224bf"
      },
      "execution_count": null,
      "outputs": [
        {
          "output_type": "execute_result",
          "data": {
            "text/plain": [
              "Index(['id', 'title', 'type', 'description', 'release_year',\n",
              "       'age_certification', 'runtime', 'genres', 'production_countries',\n",
              "       'seasons', 'imdb_id', 'imdb_score', 'imdb_votes', 'tmdb_popularity',\n",
              "       'tmdb_score'],\n",
              "      dtype='object')"
            ]
          },
          "metadata": {},
          "execution_count": 4
        }
      ]
    },
    {
      "cell_type": "code",
      "source": [
        "data2.columns"
      ],
      "metadata": {
        "colab": {
          "base_uri": "https://localhost:8080/"
        },
        "id": "VJkWE7d4NeJW",
        "outputId": "2896e8c9-b15d-48c6-b44e-30c00e504e52"
      },
      "execution_count": null,
      "outputs": [
        {
          "output_type": "execute_result",
          "data": {
            "text/plain": [
              "Index(['person_id', 'id', 'name', 'character', 'role'], dtype='object')"
            ]
          },
          "metadata": {},
          "execution_count": 5
        }
      ]
    },
    {
      "cell_type": "code",
      "source": [
        "#merge 2 data on common column id\n",
        "data = pd.merge(data1,data2, on = 'id')"
      ],
      "metadata": {
        "id": "gNKDMa4cOE1u"
      },
      "execution_count": null,
      "outputs": []
    },
    {
      "cell_type": "code",
      "source": [
        "#lets print the merged data\n",
        "data"
      ],
      "metadata": {
        "colab": {
          "base_uri": "https://localhost:8080/",
          "height": 1000
        },
        "id": "P8fPJklZORG_",
        "outputId": "80892d8e-1fab-4161-8022-988f7d9a014c"
      },
      "execution_count": null,
      "outputs": [
        {
          "output_type": "execute_result",
          "data": {
            "text/plain": [
              "               id              title   type  \\\n",
              "0         ts20945  The Three Stooges   SHOW   \n",
              "1         ts20945  The Three Stooges   SHOW   \n",
              "2         ts20945  The Three Stooges   SHOW   \n",
              "3         tm19248        The General  MOVIE   \n",
              "4         tm19248        The General  MOVIE   \n",
              "...           ...                ...    ...   \n",
              "124342  tm1054116           Baikunth  MOVIE   \n",
              "124343  tm1054116           Baikunth  MOVIE   \n",
              "124344  tm1054116           Baikunth  MOVIE   \n",
              "124345  tm1054116           Baikunth  MOVIE   \n",
              "124346  tm1054116           Baikunth  MOVIE   \n",
              "\n",
              "                                              description  release_year  \\\n",
              "0       The Three Stooges were an American vaudeville ...          1934   \n",
              "1       The Three Stooges were an American vaudeville ...          1934   \n",
              "2       The Three Stooges were an American vaudeville ...          1934   \n",
              "3       During America’s Civil War, Union spies steal ...          1926   \n",
              "4       During America’s Civil War, Union spies steal ...          1926   \n",
              "...                                                   ...           ...   \n",
              "124342  This story is about prevalent caste problem, e...          2021   \n",
              "124343  This story is about prevalent caste problem, e...          2021   \n",
              "124344  This story is about prevalent caste problem, e...          2021   \n",
              "124345  This story is about prevalent caste problem, e...          2021   \n",
              "124346  This story is about prevalent caste problem, e...          2021   \n",
              "\n",
              "       age_certification  runtime  \\\n",
              "0                  TV-PG       19   \n",
              "1                  TV-PG       19   \n",
              "2                  TV-PG       19   \n",
              "3                    NaN       78   \n",
              "4                    NaN       78   \n",
              "...                  ...      ...   \n",
              "124342               NaN       72   \n",
              "124343               NaN       72   \n",
              "124344               NaN       72   \n",
              "124345               NaN       72   \n",
              "124346               NaN       72   \n",
              "\n",
              "                                                   genres  \\\n",
              "0       ['comedy', 'family', 'animation', 'action', 'f...   \n",
              "1       ['comedy', 'family', 'animation', 'action', 'f...   \n",
              "2       ['comedy', 'family', 'animation', 'action', 'f...   \n",
              "3       ['action', 'drama', 'war', 'western', 'comedy'...   \n",
              "4       ['action', 'drama', 'war', 'western', 'comedy'...   \n",
              "...                                                   ...   \n",
              "124342                                ['family', 'drama']   \n",
              "124343                                ['family', 'drama']   \n",
              "124344                                ['family', 'drama']   \n",
              "124345                                ['family', 'drama']   \n",
              "124346                                ['family', 'drama']   \n",
              "\n",
              "       production_countries  seasons     imdb_id  imdb_score  imdb_votes  \\\n",
              "0                    ['US']     26.0   tt0850645         8.6      1092.0   \n",
              "1                    ['US']     26.0   tt0850645         8.6      1092.0   \n",
              "2                    ['US']     26.0   tt0850645         8.6      1092.0   \n",
              "3                    ['US']      NaN   tt0017925         8.2     89766.0   \n",
              "4                    ['US']      NaN   tt0017925         8.2     89766.0   \n",
              "...                     ...      ...         ...         ...         ...   \n",
              "124342                   []      NaN  tt14331982         8.4        49.0   \n",
              "124343                   []      NaN  tt14331982         8.4        49.0   \n",
              "124344                   []      NaN  tt14331982         8.4        49.0   \n",
              "124345                   []      NaN  tt14331982         8.4        49.0   \n",
              "124346                   []      NaN  tt14331982         8.4        49.0   \n",
              "\n",
              "        tmdb_popularity  tmdb_score  person_id           name      character  \\\n",
              "0                15.424         7.6      59401     Joe Besser            Joe   \n",
              "1                15.424         7.6      31460     Moe Howard            Moe   \n",
              "2                15.424         7.6      31461     Larry Fine          Larry   \n",
              "3                 8.647         8.0      21174  Buster Keaton    Johnny Gray   \n",
              "4                 8.647         8.0      28713    Marion Mack  Annabelle Lee   \n",
              "...                 ...         ...        ...            ...            ...   \n",
              "124342            0.645         NaN    1938589  Sangam Shukla         Madhav   \n",
              "124343            0.645         NaN    1938565   Vijay Thakur  Sanjay Thakur   \n",
              "124344            0.645         NaN     728899  Vanya Wellens        Budhiya   \n",
              "124345            0.645         NaN    1938620   Vishwa Bhanu          Gissu   \n",
              "124346            0.645         NaN    1938620   Vishwa Bhanu            NaN   \n",
              "\n",
              "            role  \n",
              "0          ACTOR  \n",
              "1          ACTOR  \n",
              "2          ACTOR  \n",
              "3          ACTOR  \n",
              "4          ACTOR  \n",
              "...          ...  \n",
              "124342     ACTOR  \n",
              "124343     ACTOR  \n",
              "124344     ACTOR  \n",
              "124345     ACTOR  \n",
              "124346  DIRECTOR  \n",
              "\n",
              "[124347 rows x 19 columns]"
            ],
            "text/html": [
              "\n",
              "  <div id=\"df-5b9d41f1-b7a7-4053-ae05-e8735aa34259\" class=\"colab-df-container\">\n",
              "    <div>\n",
              "<style scoped>\n",
              "    .dataframe tbody tr th:only-of-type {\n",
              "        vertical-align: middle;\n",
              "    }\n",
              "\n",
              "    .dataframe tbody tr th {\n",
              "        vertical-align: top;\n",
              "    }\n",
              "\n",
              "    .dataframe thead th {\n",
              "        text-align: right;\n",
              "    }\n",
              "</style>\n",
              "<table border=\"1\" class=\"dataframe\">\n",
              "  <thead>\n",
              "    <tr style=\"text-align: right;\">\n",
              "      <th></th>\n",
              "      <th>id</th>\n",
              "      <th>title</th>\n",
              "      <th>type</th>\n",
              "      <th>description</th>\n",
              "      <th>release_year</th>\n",
              "      <th>age_certification</th>\n",
              "      <th>runtime</th>\n",
              "      <th>genres</th>\n",
              "      <th>production_countries</th>\n",
              "      <th>seasons</th>\n",
              "      <th>imdb_id</th>\n",
              "      <th>imdb_score</th>\n",
              "      <th>imdb_votes</th>\n",
              "      <th>tmdb_popularity</th>\n",
              "      <th>tmdb_score</th>\n",
              "      <th>person_id</th>\n",
              "      <th>name</th>\n",
              "      <th>character</th>\n",
              "      <th>role</th>\n",
              "    </tr>\n",
              "  </thead>\n",
              "  <tbody>\n",
              "    <tr>\n",
              "      <th>0</th>\n",
              "      <td>ts20945</td>\n",
              "      <td>The Three Stooges</td>\n",
              "      <td>SHOW</td>\n",
              "      <td>The Three Stooges were an American vaudeville ...</td>\n",
              "      <td>1934</td>\n",
              "      <td>TV-PG</td>\n",
              "      <td>19</td>\n",
              "      <td>['comedy', 'family', 'animation', 'action', 'f...</td>\n",
              "      <td>['US']</td>\n",
              "      <td>26.0</td>\n",
              "      <td>tt0850645</td>\n",
              "      <td>8.6</td>\n",
              "      <td>1092.0</td>\n",
              "      <td>15.424</td>\n",
              "      <td>7.6</td>\n",
              "      <td>59401</td>\n",
              "      <td>Joe Besser</td>\n",
              "      <td>Joe</td>\n",
              "      <td>ACTOR</td>\n",
              "    </tr>\n",
              "    <tr>\n",
              "      <th>1</th>\n",
              "      <td>ts20945</td>\n",
              "      <td>The Three Stooges</td>\n",
              "      <td>SHOW</td>\n",
              "      <td>The Three Stooges were an American vaudeville ...</td>\n",
              "      <td>1934</td>\n",
              "      <td>TV-PG</td>\n",
              "      <td>19</td>\n",
              "      <td>['comedy', 'family', 'animation', 'action', 'f...</td>\n",
              "      <td>['US']</td>\n",
              "      <td>26.0</td>\n",
              "      <td>tt0850645</td>\n",
              "      <td>8.6</td>\n",
              "      <td>1092.0</td>\n",
              "      <td>15.424</td>\n",
              "      <td>7.6</td>\n",
              "      <td>31460</td>\n",
              "      <td>Moe Howard</td>\n",
              "      <td>Moe</td>\n",
              "      <td>ACTOR</td>\n",
              "    </tr>\n",
              "    <tr>\n",
              "      <th>2</th>\n",
              "      <td>ts20945</td>\n",
              "      <td>The Three Stooges</td>\n",
              "      <td>SHOW</td>\n",
              "      <td>The Three Stooges were an American vaudeville ...</td>\n",
              "      <td>1934</td>\n",
              "      <td>TV-PG</td>\n",
              "      <td>19</td>\n",
              "      <td>['comedy', 'family', 'animation', 'action', 'f...</td>\n",
              "      <td>['US']</td>\n",
              "      <td>26.0</td>\n",
              "      <td>tt0850645</td>\n",
              "      <td>8.6</td>\n",
              "      <td>1092.0</td>\n",
              "      <td>15.424</td>\n",
              "      <td>7.6</td>\n",
              "      <td>31461</td>\n",
              "      <td>Larry Fine</td>\n",
              "      <td>Larry</td>\n",
              "      <td>ACTOR</td>\n",
              "    </tr>\n",
              "    <tr>\n",
              "      <th>3</th>\n",
              "      <td>tm19248</td>\n",
              "      <td>The General</td>\n",
              "      <td>MOVIE</td>\n",
              "      <td>During America’s Civil War, Union spies steal ...</td>\n",
              "      <td>1926</td>\n",
              "      <td>NaN</td>\n",
              "      <td>78</td>\n",
              "      <td>['action', 'drama', 'war', 'western', 'comedy'...</td>\n",
              "      <td>['US']</td>\n",
              "      <td>NaN</td>\n",
              "      <td>tt0017925</td>\n",
              "      <td>8.2</td>\n",
              "      <td>89766.0</td>\n",
              "      <td>8.647</td>\n",
              "      <td>8.0</td>\n",
              "      <td>21174</td>\n",
              "      <td>Buster Keaton</td>\n",
              "      <td>Johnny Gray</td>\n",
              "      <td>ACTOR</td>\n",
              "    </tr>\n",
              "    <tr>\n",
              "      <th>4</th>\n",
              "      <td>tm19248</td>\n",
              "      <td>The General</td>\n",
              "      <td>MOVIE</td>\n",
              "      <td>During America’s Civil War, Union spies steal ...</td>\n",
              "      <td>1926</td>\n",
              "      <td>NaN</td>\n",
              "      <td>78</td>\n",
              "      <td>['action', 'drama', 'war', 'western', 'comedy'...</td>\n",
              "      <td>['US']</td>\n",
              "      <td>NaN</td>\n",
              "      <td>tt0017925</td>\n",
              "      <td>8.2</td>\n",
              "      <td>89766.0</td>\n",
              "      <td>8.647</td>\n",
              "      <td>8.0</td>\n",
              "      <td>28713</td>\n",
              "      <td>Marion Mack</td>\n",
              "      <td>Annabelle Lee</td>\n",
              "      <td>ACTOR</td>\n",
              "    </tr>\n",
              "    <tr>\n",
              "      <th>...</th>\n",
              "      <td>...</td>\n",
              "      <td>...</td>\n",
              "      <td>...</td>\n",
              "      <td>...</td>\n",
              "      <td>...</td>\n",
              "      <td>...</td>\n",
              "      <td>...</td>\n",
              "      <td>...</td>\n",
              "      <td>...</td>\n",
              "      <td>...</td>\n",
              "      <td>...</td>\n",
              "      <td>...</td>\n",
              "      <td>...</td>\n",
              "      <td>...</td>\n",
              "      <td>...</td>\n",
              "      <td>...</td>\n",
              "      <td>...</td>\n",
              "      <td>...</td>\n",
              "      <td>...</td>\n",
              "    </tr>\n",
              "    <tr>\n",
              "      <th>124342</th>\n",
              "      <td>tm1054116</td>\n",
              "      <td>Baikunth</td>\n",
              "      <td>MOVIE</td>\n",
              "      <td>This story is about prevalent caste problem, e...</td>\n",
              "      <td>2021</td>\n",
              "      <td>NaN</td>\n",
              "      <td>72</td>\n",
              "      <td>['family', 'drama']</td>\n",
              "      <td>[]</td>\n",
              "      <td>NaN</td>\n",
              "      <td>tt14331982</td>\n",
              "      <td>8.4</td>\n",
              "      <td>49.0</td>\n",
              "      <td>0.645</td>\n",
              "      <td>NaN</td>\n",
              "      <td>1938589</td>\n",
              "      <td>Sangam Shukla</td>\n",
              "      <td>Madhav</td>\n",
              "      <td>ACTOR</td>\n",
              "    </tr>\n",
              "    <tr>\n",
              "      <th>124343</th>\n",
              "      <td>tm1054116</td>\n",
              "      <td>Baikunth</td>\n",
              "      <td>MOVIE</td>\n",
              "      <td>This story is about prevalent caste problem, e...</td>\n",
              "      <td>2021</td>\n",
              "      <td>NaN</td>\n",
              "      <td>72</td>\n",
              "      <td>['family', 'drama']</td>\n",
              "      <td>[]</td>\n",
              "      <td>NaN</td>\n",
              "      <td>tt14331982</td>\n",
              "      <td>8.4</td>\n",
              "      <td>49.0</td>\n",
              "      <td>0.645</td>\n",
              "      <td>NaN</td>\n",
              "      <td>1938565</td>\n",
              "      <td>Vijay Thakur</td>\n",
              "      <td>Sanjay Thakur</td>\n",
              "      <td>ACTOR</td>\n",
              "    </tr>\n",
              "    <tr>\n",
              "      <th>124344</th>\n",
              "      <td>tm1054116</td>\n",
              "      <td>Baikunth</td>\n",
              "      <td>MOVIE</td>\n",
              "      <td>This story is about prevalent caste problem, e...</td>\n",
              "      <td>2021</td>\n",
              "      <td>NaN</td>\n",
              "      <td>72</td>\n",
              "      <td>['family', 'drama']</td>\n",
              "      <td>[]</td>\n",
              "      <td>NaN</td>\n",
              "      <td>tt14331982</td>\n",
              "      <td>8.4</td>\n",
              "      <td>49.0</td>\n",
              "      <td>0.645</td>\n",
              "      <td>NaN</td>\n",
              "      <td>728899</td>\n",
              "      <td>Vanya Wellens</td>\n",
              "      <td>Budhiya</td>\n",
              "      <td>ACTOR</td>\n",
              "    </tr>\n",
              "    <tr>\n",
              "      <th>124345</th>\n",
              "      <td>tm1054116</td>\n",
              "      <td>Baikunth</td>\n",
              "      <td>MOVIE</td>\n",
              "      <td>This story is about prevalent caste problem, e...</td>\n",
              "      <td>2021</td>\n",
              "      <td>NaN</td>\n",
              "      <td>72</td>\n",
              "      <td>['family', 'drama']</td>\n",
              "      <td>[]</td>\n",
              "      <td>NaN</td>\n",
              "      <td>tt14331982</td>\n",
              "      <td>8.4</td>\n",
              "      <td>49.0</td>\n",
              "      <td>0.645</td>\n",
              "      <td>NaN</td>\n",
              "      <td>1938620</td>\n",
              "      <td>Vishwa Bhanu</td>\n",
              "      <td>Gissu</td>\n",
              "      <td>ACTOR</td>\n",
              "    </tr>\n",
              "    <tr>\n",
              "      <th>124346</th>\n",
              "      <td>tm1054116</td>\n",
              "      <td>Baikunth</td>\n",
              "      <td>MOVIE</td>\n",
              "      <td>This story is about prevalent caste problem, e...</td>\n",
              "      <td>2021</td>\n",
              "      <td>NaN</td>\n",
              "      <td>72</td>\n",
              "      <td>['family', 'drama']</td>\n",
              "      <td>[]</td>\n",
              "      <td>NaN</td>\n",
              "      <td>tt14331982</td>\n",
              "      <td>8.4</td>\n",
              "      <td>49.0</td>\n",
              "      <td>0.645</td>\n",
              "      <td>NaN</td>\n",
              "      <td>1938620</td>\n",
              "      <td>Vishwa Bhanu</td>\n",
              "      <td>NaN</td>\n",
              "      <td>DIRECTOR</td>\n",
              "    </tr>\n",
              "  </tbody>\n",
              "</table>\n",
              "<p>124347 rows × 19 columns</p>\n",
              "</div>\n",
              "    <div class=\"colab-df-buttons\">\n",
              "\n",
              "  <div class=\"colab-df-container\">\n",
              "    <button class=\"colab-df-convert\" onclick=\"convertToInteractive('df-5b9d41f1-b7a7-4053-ae05-e8735aa34259')\"\n",
              "            title=\"Convert this dataframe to an interactive table.\"\n",
              "            style=\"display:none;\">\n",
              "\n",
              "  <svg xmlns=\"http://www.w3.org/2000/svg\" height=\"24px\" viewBox=\"0 -960 960 960\">\n",
              "    <path d=\"M120-120v-720h720v720H120Zm60-500h600v-160H180v160Zm220 220h160v-160H400v160Zm0 220h160v-160H400v160ZM180-400h160v-160H180v160Zm440 0h160v-160H620v160ZM180-180h160v-160H180v160Zm440 0h160v-160H620v160Z\"/>\n",
              "  </svg>\n",
              "    </button>\n",
              "\n",
              "  <style>\n",
              "    .colab-df-container {\n",
              "      display:flex;\n",
              "      gap: 12px;\n",
              "    }\n",
              "\n",
              "    .colab-df-convert {\n",
              "      background-color: #E8F0FE;\n",
              "      border: none;\n",
              "      border-radius: 50%;\n",
              "      cursor: pointer;\n",
              "      display: none;\n",
              "      fill: #1967D2;\n",
              "      height: 32px;\n",
              "      padding: 0 0 0 0;\n",
              "      width: 32px;\n",
              "    }\n",
              "\n",
              "    .colab-df-convert:hover {\n",
              "      background-color: #E2EBFA;\n",
              "      box-shadow: 0px 1px 2px rgba(60, 64, 67, 0.3), 0px 1px 3px 1px rgba(60, 64, 67, 0.15);\n",
              "      fill: #174EA6;\n",
              "    }\n",
              "\n",
              "    .colab-df-buttons div {\n",
              "      margin-bottom: 4px;\n",
              "    }\n",
              "\n",
              "    [theme=dark] .colab-df-convert {\n",
              "      background-color: #3B4455;\n",
              "      fill: #D2E3FC;\n",
              "    }\n",
              "\n",
              "    [theme=dark] .colab-df-convert:hover {\n",
              "      background-color: #434B5C;\n",
              "      box-shadow: 0px 1px 3px 1px rgba(0, 0, 0, 0.15);\n",
              "      filter: drop-shadow(0px 1px 2px rgba(0, 0, 0, 0.3));\n",
              "      fill: #FFFFFF;\n",
              "    }\n",
              "  </style>\n",
              "\n",
              "    <script>\n",
              "      const buttonEl =\n",
              "        document.querySelector('#df-5b9d41f1-b7a7-4053-ae05-e8735aa34259 button.colab-df-convert');\n",
              "      buttonEl.style.display =\n",
              "        google.colab.kernel.accessAllowed ? 'block' : 'none';\n",
              "\n",
              "      async function convertToInteractive(key) {\n",
              "        const element = document.querySelector('#df-5b9d41f1-b7a7-4053-ae05-e8735aa34259');\n",
              "        const dataTable =\n",
              "          await google.colab.kernel.invokeFunction('convertToInteractive',\n",
              "                                                    [key], {});\n",
              "        if (!dataTable) return;\n",
              "\n",
              "        const docLinkHtml = 'Like what you see? Visit the ' +\n",
              "          '<a target=\"_blank\" href=https://colab.research.google.com/notebooks/data_table.ipynb>data table notebook</a>'\n",
              "          + ' to learn more about interactive tables.';\n",
              "        element.innerHTML = '';\n",
              "        dataTable['output_type'] = 'display_data';\n",
              "        await google.colab.output.renderOutput(dataTable, element);\n",
              "        const docLink = document.createElement('div');\n",
              "        docLink.innerHTML = docLinkHtml;\n",
              "        element.appendChild(docLink);\n",
              "      }\n",
              "    </script>\n",
              "  </div>\n",
              "\n",
              "\n",
              "<div id=\"df-63d55f4d-9e79-49b0-864c-697727dd1fb0\">\n",
              "  <button class=\"colab-df-quickchart\" onclick=\"quickchart('df-63d55f4d-9e79-49b0-864c-697727dd1fb0')\"\n",
              "            title=\"Suggest charts\"\n",
              "            style=\"display:none;\">\n",
              "\n",
              "<svg xmlns=\"http://www.w3.org/2000/svg\" height=\"24px\"viewBox=\"0 0 24 24\"\n",
              "     width=\"24px\">\n",
              "    <g>\n",
              "        <path d=\"M19 3H5c-1.1 0-2 .9-2 2v14c0 1.1.9 2 2 2h14c1.1 0 2-.9 2-2V5c0-1.1-.9-2-2-2zM9 17H7v-7h2v7zm4 0h-2V7h2v10zm4 0h-2v-4h2v4z\"/>\n",
              "    </g>\n",
              "</svg>\n",
              "  </button>\n",
              "\n",
              "<style>\n",
              "  .colab-df-quickchart {\n",
              "      --bg-color: #E8F0FE;\n",
              "      --fill-color: #1967D2;\n",
              "      --hover-bg-color: #E2EBFA;\n",
              "      --hover-fill-color: #174EA6;\n",
              "      --disabled-fill-color: #AAA;\n",
              "      --disabled-bg-color: #DDD;\n",
              "  }\n",
              "\n",
              "  [theme=dark] .colab-df-quickchart {\n",
              "      --bg-color: #3B4455;\n",
              "      --fill-color: #D2E3FC;\n",
              "      --hover-bg-color: #434B5C;\n",
              "      --hover-fill-color: #FFFFFF;\n",
              "      --disabled-bg-color: #3B4455;\n",
              "      --disabled-fill-color: #666;\n",
              "  }\n",
              "\n",
              "  .colab-df-quickchart {\n",
              "    background-color: var(--bg-color);\n",
              "    border: none;\n",
              "    border-radius: 50%;\n",
              "    cursor: pointer;\n",
              "    display: none;\n",
              "    fill: var(--fill-color);\n",
              "    height: 32px;\n",
              "    padding: 0;\n",
              "    width: 32px;\n",
              "  }\n",
              "\n",
              "  .colab-df-quickchart:hover {\n",
              "    background-color: var(--hover-bg-color);\n",
              "    box-shadow: 0 1px 2px rgba(60, 64, 67, 0.3), 0 1px 3px 1px rgba(60, 64, 67, 0.15);\n",
              "    fill: var(--button-hover-fill-color);\n",
              "  }\n",
              "\n",
              "  .colab-df-quickchart-complete:disabled,\n",
              "  .colab-df-quickchart-complete:disabled:hover {\n",
              "    background-color: var(--disabled-bg-color);\n",
              "    fill: var(--disabled-fill-color);\n",
              "    box-shadow: none;\n",
              "  }\n",
              "\n",
              "  .colab-df-spinner {\n",
              "    border: 2px solid var(--fill-color);\n",
              "    border-color: transparent;\n",
              "    border-bottom-color: var(--fill-color);\n",
              "    animation:\n",
              "      spin 1s steps(1) infinite;\n",
              "  }\n",
              "\n",
              "  @keyframes spin {\n",
              "    0% {\n",
              "      border-color: transparent;\n",
              "      border-bottom-color: var(--fill-color);\n",
              "      border-left-color: var(--fill-color);\n",
              "    }\n",
              "    20% {\n",
              "      border-color: transparent;\n",
              "      border-left-color: var(--fill-color);\n",
              "      border-top-color: var(--fill-color);\n",
              "    }\n",
              "    30% {\n",
              "      border-color: transparent;\n",
              "      border-left-color: var(--fill-color);\n",
              "      border-top-color: var(--fill-color);\n",
              "      border-right-color: var(--fill-color);\n",
              "    }\n",
              "    40% {\n",
              "      border-color: transparent;\n",
              "      border-right-color: var(--fill-color);\n",
              "      border-top-color: var(--fill-color);\n",
              "    }\n",
              "    60% {\n",
              "      border-color: transparent;\n",
              "      border-right-color: var(--fill-color);\n",
              "    }\n",
              "    80% {\n",
              "      border-color: transparent;\n",
              "      border-right-color: var(--fill-color);\n",
              "      border-bottom-color: var(--fill-color);\n",
              "    }\n",
              "    90% {\n",
              "      border-color: transparent;\n",
              "      border-bottom-color: var(--fill-color);\n",
              "    }\n",
              "  }\n",
              "</style>\n",
              "\n",
              "  <script>\n",
              "    async function quickchart(key) {\n",
              "      const quickchartButtonEl =\n",
              "        document.querySelector('#' + key + ' button');\n",
              "      quickchartButtonEl.disabled = true;  // To prevent multiple clicks.\n",
              "      quickchartButtonEl.classList.add('colab-df-spinner');\n",
              "      try {\n",
              "        const charts = await google.colab.kernel.invokeFunction(\n",
              "            'suggestCharts', [key], {});\n",
              "      } catch (error) {\n",
              "        console.error('Error during call to suggestCharts:', error);\n",
              "      }\n",
              "      quickchartButtonEl.classList.remove('colab-df-spinner');\n",
              "      quickchartButtonEl.classList.add('colab-df-quickchart-complete');\n",
              "    }\n",
              "    (() => {\n",
              "      let quickchartButtonEl =\n",
              "        document.querySelector('#df-63d55f4d-9e79-49b0-864c-697727dd1fb0 button');\n",
              "      quickchartButtonEl.style.display =\n",
              "        google.colab.kernel.accessAllowed ? 'block' : 'none';\n",
              "    })();\n",
              "  </script>\n",
              "</div>\n",
              "\n",
              "  <div id=\"id_8b99712a-a5d2-4263-bc8f-2c37f5d8c00c\">\n",
              "    <style>\n",
              "      .colab-df-generate {\n",
              "        background-color: #E8F0FE;\n",
              "        border: none;\n",
              "        border-radius: 50%;\n",
              "        cursor: pointer;\n",
              "        display: none;\n",
              "        fill: #1967D2;\n",
              "        height: 32px;\n",
              "        padding: 0 0 0 0;\n",
              "        width: 32px;\n",
              "      }\n",
              "\n",
              "      .colab-df-generate:hover {\n",
              "        background-color: #E2EBFA;\n",
              "        box-shadow: 0px 1px 2px rgba(60, 64, 67, 0.3), 0px 1px 3px 1px rgba(60, 64, 67, 0.15);\n",
              "        fill: #174EA6;\n",
              "      }\n",
              "\n",
              "      [theme=dark] .colab-df-generate {\n",
              "        background-color: #3B4455;\n",
              "        fill: #D2E3FC;\n",
              "      }\n",
              "\n",
              "      [theme=dark] .colab-df-generate:hover {\n",
              "        background-color: #434B5C;\n",
              "        box-shadow: 0px 1px 3px 1px rgba(0, 0, 0, 0.15);\n",
              "        filter: drop-shadow(0px 1px 2px rgba(0, 0, 0, 0.3));\n",
              "        fill: #FFFFFF;\n",
              "      }\n",
              "    </style>\n",
              "    <button class=\"colab-df-generate\" onclick=\"generateWithVariable('data')\"\n",
              "            title=\"Generate code using this dataframe.\"\n",
              "            style=\"display:none;\">\n",
              "\n",
              "  <svg xmlns=\"http://www.w3.org/2000/svg\" height=\"24px\"viewBox=\"0 0 24 24\"\n",
              "       width=\"24px\">\n",
              "    <path d=\"M7,19H8.4L18.45,9,17,7.55,7,17.6ZM5,21V16.75L18.45,3.32a2,2,0,0,1,2.83,0l1.4,1.43a1.91,1.91,0,0,1,.58,1.4,1.91,1.91,0,0,1-.58,1.4L9.25,21ZM18.45,9,17,7.55Zm-12,3A5.31,5.31,0,0,0,4.9,8.1,5.31,5.31,0,0,0,1,6.5,5.31,5.31,0,0,0,4.9,4.9,5.31,5.31,0,0,0,6.5,1,5.31,5.31,0,0,0,8.1,4.9,5.31,5.31,0,0,0,12,6.5,5.46,5.46,0,0,0,6.5,12Z\"/>\n",
              "  </svg>\n",
              "    </button>\n",
              "    <script>\n",
              "      (() => {\n",
              "      const buttonEl =\n",
              "        document.querySelector('#id_8b99712a-a5d2-4263-bc8f-2c37f5d8c00c button.colab-df-generate');\n",
              "      buttonEl.style.display =\n",
              "        google.colab.kernel.accessAllowed ? 'block' : 'none';\n",
              "\n",
              "      buttonEl.onclick = () => {\n",
              "        google.colab.notebook.generateWithVariable('data');\n",
              "      }\n",
              "      })();\n",
              "    </script>\n",
              "  </div>\n",
              "\n",
              "    </div>\n",
              "  </div>\n"
            ],
            "application/vnd.google.colaboratory.intrinsic+json": {
              "type": "dataframe",
              "variable_name": "data"
            }
          },
          "metadata": {},
          "execution_count": 7
        }
      ]
    },
    {
      "cell_type": "code",
      "source": [
        "# Dataset rows and columns count\n",
        "data.shape"
      ],
      "metadata": {
        "colab": {
          "base_uri": "https://localhost:8080/"
        },
        "id": "IQqM1D1ZPbju",
        "outputId": "f4d83b5e-6579-478f-ddc7-2d200acc2904"
      },
      "execution_count": null,
      "outputs": [
        {
          "output_type": "execute_result",
          "data": {
            "text/plain": [
              "(124347, 19)"
            ]
          },
          "metadata": {},
          "execution_count": 8
        }
      ]
    },
    {
      "cell_type": "code",
      "source": [
        "#Fetching all the columns of dataset\n",
        "data.columns"
      ],
      "metadata": {
        "colab": {
          "base_uri": "https://localhost:8080/"
        },
        "id": "8praEEaLSKtE",
        "outputId": "63f7637c-cd7d-412a-e61a-0892b3e691d3"
      },
      "execution_count": null,
      "outputs": [
        {
          "output_type": "execute_result",
          "data": {
            "text/plain": [
              "Index(['id', 'title', 'type', 'description', 'release_year',\n",
              "       'age_certification', 'runtime', 'genres', 'production_countries',\n",
              "       'seasons', 'imdb_id', 'imdb_score', 'imdb_votes', 'tmdb_popularity',\n",
              "       'tmdb_score', 'person_id', 'name', 'character', 'role'],\n",
              "      dtype='object')"
            ]
          },
          "metadata": {},
          "execution_count": 9
        }
      ]
    },
    {
      "cell_type": "code",
      "source": [
        "# Dataset Info\n",
        "data.info()"
      ],
      "metadata": {
        "colab": {
          "base_uri": "https://localhost:8080/"
        },
        "id": "Te0ytcD2PvC1",
        "outputId": "6b6d6e30-a086-4024-9237-016d1f546421"
      },
      "execution_count": null,
      "outputs": [
        {
          "output_type": "stream",
          "name": "stdout",
          "text": [
            "<class 'pandas.core.frame.DataFrame'>\n",
            "RangeIndex: 124347 entries, 0 to 124346\n",
            "Data columns (total 19 columns):\n",
            " #   Column                Non-Null Count   Dtype  \n",
            "---  ------                --------------   -----  \n",
            " 0   id                    124347 non-null  object \n",
            " 1   title                 124347 non-null  object \n",
            " 2   type                  124347 non-null  object \n",
            " 3   description           124256 non-null  object \n",
            " 4   release_year          124347 non-null  int64  \n",
            " 5   age_certification     56707 non-null   object \n",
            " 6   runtime               124347 non-null  int64  \n",
            " 7   genres                124347 non-null  object \n",
            " 8   production_countries  124347 non-null  object \n",
            " 9   seasons               8153 non-null    float64\n",
            " 10  imdb_id               119044 non-null  object \n",
            " 11  imdb_score            118296 non-null  float64\n",
            " 12  imdb_votes            118272 non-null  float64\n",
            " 13  tmdb_popularity       124332 non-null  float64\n",
            " 14  tmdb_score            114082 non-null  float64\n",
            " 15  person_id             124347 non-null  int64  \n",
            " 16  name                  124347 non-null  object \n",
            " 17  character             108040 non-null  object \n",
            " 18  role                  124347 non-null  object \n",
            "dtypes: float64(5), int64(3), object(11)\n",
            "memory usage: 18.0+ MB\n"
          ]
        }
      ]
    },
    {
      "cell_type": "markdown",
      "source": [
        "##**Dataset Description**\n",
        "The dataset is related to movies and TV shows available on Amazon Prime Video. It's formed by merging two datasets: titles.csv and credits.csv.\n",
        "\n",
        "**title.csv** dataset contains information about movies and TV shows available on Amazon Prime Video. Each row represents a single title.\n",
        "\n",
        "**credits.csv** dataset contains information about the people involved in the production of the titles (actors, directors, etc.). Each row represents a person's involvement in a specific title.\n",
        "\n",
        "###**Dataset has following columns**\n",
        "\n",
        "\n",
        "**id**: Unique identifier for each title (movie or TV show)\n",
        "\n",
        "**title**: Title of the movie or TV show\n",
        "\n",
        "**type**: Whether it's a 'SHOW' (TV show) or a 'MOVIE'\n",
        "\n",
        "**description**: A brief description of the title\n",
        "\n",
        "**release_year**: The year the title was released\n",
        "\n",
        "**age_certification**: Age rating or certification (e.g., PG-13, TV-MA)\n",
        "\n",
        "**runtime**: Duration of the movie or TV show in minutes\n",
        "\n",
        "**genres**: List of genres associated with the title (e.g., ['comedy', 'drama'])\n",
        "\n",
        "**production_countries**: List of countries where the title was produced\n",
        "\n",
        "**seasons**: Number of seasons (for TV shows only)\n",
        "\n",
        "**imdb_id**: IMDb identifier for the title\n",
        "\n",
        "**imdb_score**: IMDb rating of the title\n",
        "\n",
        "**imdb_votes**: Number of votes the title received on IMDb\n",
        "\n",
        "**tmdb_popularity**: Popularity score from TMDb (The Movie Database)\n",
        "\n",
        "**tmdb_score**: Rating score from TMDb\n",
        "\n",
        "**person_id**: Unique identifier for a person involved in the production (actor, director, etc.)\n",
        "\n",
        "**name**: Name of the person (actor, director, etc.)\n",
        "\n",
        "**character**: The character played by the person (for actors)\n",
        "\n",
        "**role**: The role of the person in the production (e.g., 'ACTOR', 'DIRECTOR')"
      ],
      "metadata": {
        "id": "tu7KzysISDfK"
      }
    },
    {
      "cell_type": "markdown",
      "source": [
        "##**Missing values/Null values**"
      ],
      "metadata": {
        "id": "Eh1sFK5NRFjg"
      }
    },
    {
      "cell_type": "code",
      "source": [
        "#check for null values\n",
        "data.isnull().sum()"
      ],
      "metadata": {
        "colab": {
          "base_uri": "https://localhost:8080/",
          "height": 680
        },
        "id": "M_r9h29lP4a-",
        "outputId": "1d4c35d2-46ac-4ee6-b8d4-7ba9032982eb"
      },
      "execution_count": null,
      "outputs": [
        {
          "output_type": "execute_result",
          "data": {
            "text/plain": [
              "id                           0\n",
              "title                        0\n",
              "type                         0\n",
              "description                 91\n",
              "release_year                 0\n",
              "age_certification        67640\n",
              "runtime                      0\n",
              "genres                       0\n",
              "production_countries         0\n",
              "seasons                 116194\n",
              "imdb_id                   5303\n",
              "imdb_score                6051\n",
              "imdb_votes                6075\n",
              "tmdb_popularity             15\n",
              "tmdb_score               10265\n",
              "person_id                    0\n",
              "name                         0\n",
              "character                16307\n",
              "role                         0\n",
              "dtype: int64"
            ],
            "text/html": [
              "<div>\n",
              "<style scoped>\n",
              "    .dataframe tbody tr th:only-of-type {\n",
              "        vertical-align: middle;\n",
              "    }\n",
              "\n",
              "    .dataframe tbody tr th {\n",
              "        vertical-align: top;\n",
              "    }\n",
              "\n",
              "    .dataframe thead th {\n",
              "        text-align: right;\n",
              "    }\n",
              "</style>\n",
              "<table border=\"1\" class=\"dataframe\">\n",
              "  <thead>\n",
              "    <tr style=\"text-align: right;\">\n",
              "      <th></th>\n",
              "      <th>0</th>\n",
              "    </tr>\n",
              "  </thead>\n",
              "  <tbody>\n",
              "    <tr>\n",
              "      <th>id</th>\n",
              "      <td>0</td>\n",
              "    </tr>\n",
              "    <tr>\n",
              "      <th>title</th>\n",
              "      <td>0</td>\n",
              "    </tr>\n",
              "    <tr>\n",
              "      <th>type</th>\n",
              "      <td>0</td>\n",
              "    </tr>\n",
              "    <tr>\n",
              "      <th>description</th>\n",
              "      <td>91</td>\n",
              "    </tr>\n",
              "    <tr>\n",
              "      <th>release_year</th>\n",
              "      <td>0</td>\n",
              "    </tr>\n",
              "    <tr>\n",
              "      <th>age_certification</th>\n",
              "      <td>67640</td>\n",
              "    </tr>\n",
              "    <tr>\n",
              "      <th>runtime</th>\n",
              "      <td>0</td>\n",
              "    </tr>\n",
              "    <tr>\n",
              "      <th>genres</th>\n",
              "      <td>0</td>\n",
              "    </tr>\n",
              "    <tr>\n",
              "      <th>production_countries</th>\n",
              "      <td>0</td>\n",
              "    </tr>\n",
              "    <tr>\n",
              "      <th>seasons</th>\n",
              "      <td>116194</td>\n",
              "    </tr>\n",
              "    <tr>\n",
              "      <th>imdb_id</th>\n",
              "      <td>5303</td>\n",
              "    </tr>\n",
              "    <tr>\n",
              "      <th>imdb_score</th>\n",
              "      <td>6051</td>\n",
              "    </tr>\n",
              "    <tr>\n",
              "      <th>imdb_votes</th>\n",
              "      <td>6075</td>\n",
              "    </tr>\n",
              "    <tr>\n",
              "      <th>tmdb_popularity</th>\n",
              "      <td>15</td>\n",
              "    </tr>\n",
              "    <tr>\n",
              "      <th>tmdb_score</th>\n",
              "      <td>10265</td>\n",
              "    </tr>\n",
              "    <tr>\n",
              "      <th>person_id</th>\n",
              "      <td>0</td>\n",
              "    </tr>\n",
              "    <tr>\n",
              "      <th>name</th>\n",
              "      <td>0</td>\n",
              "    </tr>\n",
              "    <tr>\n",
              "      <th>character</th>\n",
              "      <td>16307</td>\n",
              "    </tr>\n",
              "    <tr>\n",
              "      <th>role</th>\n",
              "      <td>0</td>\n",
              "    </tr>\n",
              "  </tbody>\n",
              "</table>\n",
              "</div><br><label><b>dtype:</b> int64</label>"
            ]
          },
          "metadata": {},
          "execution_count": 11
        }
      ]
    },
    {
      "cell_type": "markdown",
      "source": [
        "we have null values in description column, Let's drop all the null values from description columns."
      ],
      "metadata": {
        "id": "AkvXnyn8e7iz"
      }
    },
    {
      "cell_type": "code",
      "source": [
        "data.dropna(subset = ['description'], inplace = True)"
      ],
      "metadata": {
        "id": "Q-LHKAPNekI6"
      },
      "execution_count": null,
      "outputs": []
    },
    {
      "cell_type": "code",
      "source": [
        "data['age_certification'].mode()[0]"
      ],
      "metadata": {
        "colab": {
          "base_uri": "https://localhost:8080/",
          "height": 36
        },
        "id": "Z7pGatTrcvjt",
        "outputId": "6340b278-762d-4958-8d14-22175476d780"
      },
      "execution_count": null,
      "outputs": [
        {
          "output_type": "execute_result",
          "data": {
            "text/plain": [
              "'R'"
            ],
            "application/vnd.google.colaboratory.intrinsic+json": {
              "type": "string"
            }
          },
          "metadata": {},
          "execution_count": 13
        }
      ]
    },
    {
      "cell_type": "code",
      "source": [
        "#Replace all null values of age_certification with mode\n",
        "data['age_certification'].fillna(data['age_certification'].mode()[0], inplace = True)"
      ],
      "metadata": {
        "id": "Lk8ps0jeiZoy"
      },
      "execution_count": null,
      "outputs": []
    },
    {
      "cell_type": "code",
      "source": [
        "data.isnull().sum()"
      ],
      "metadata": {
        "colab": {
          "base_uri": "https://localhost:8080/",
          "height": 680
        },
        "id": "fH2HTbG_i0c5",
        "outputId": "98e1f996-d02c-4bc0-bed6-d572cb0e55e7"
      },
      "execution_count": null,
      "outputs": [
        {
          "output_type": "execute_result",
          "data": {
            "text/plain": [
              "id                           0\n",
              "title                        0\n",
              "type                         0\n",
              "description                  0\n",
              "release_year                 0\n",
              "age_certification            0\n",
              "runtime                      0\n",
              "genres                       0\n",
              "production_countries         0\n",
              "seasons                 116155\n",
              "imdb_id                   5234\n",
              "imdb_score                5980\n",
              "imdb_votes                6004\n",
              "tmdb_popularity             13\n",
              "tmdb_score               10239\n",
              "person_id                    0\n",
              "name                         0\n",
              "character                16258\n",
              "role                         0\n",
              "dtype: int64"
            ],
            "text/html": [
              "<div>\n",
              "<style scoped>\n",
              "    .dataframe tbody tr th:only-of-type {\n",
              "        vertical-align: middle;\n",
              "    }\n",
              "\n",
              "    .dataframe tbody tr th {\n",
              "        vertical-align: top;\n",
              "    }\n",
              "\n",
              "    .dataframe thead th {\n",
              "        text-align: right;\n",
              "    }\n",
              "</style>\n",
              "<table border=\"1\" class=\"dataframe\">\n",
              "  <thead>\n",
              "    <tr style=\"text-align: right;\">\n",
              "      <th></th>\n",
              "      <th>0</th>\n",
              "    </tr>\n",
              "  </thead>\n",
              "  <tbody>\n",
              "    <tr>\n",
              "      <th>id</th>\n",
              "      <td>0</td>\n",
              "    </tr>\n",
              "    <tr>\n",
              "      <th>title</th>\n",
              "      <td>0</td>\n",
              "    </tr>\n",
              "    <tr>\n",
              "      <th>type</th>\n",
              "      <td>0</td>\n",
              "    </tr>\n",
              "    <tr>\n",
              "      <th>description</th>\n",
              "      <td>0</td>\n",
              "    </tr>\n",
              "    <tr>\n",
              "      <th>release_year</th>\n",
              "      <td>0</td>\n",
              "    </tr>\n",
              "    <tr>\n",
              "      <th>age_certification</th>\n",
              "      <td>0</td>\n",
              "    </tr>\n",
              "    <tr>\n",
              "      <th>runtime</th>\n",
              "      <td>0</td>\n",
              "    </tr>\n",
              "    <tr>\n",
              "      <th>genres</th>\n",
              "      <td>0</td>\n",
              "    </tr>\n",
              "    <tr>\n",
              "      <th>production_countries</th>\n",
              "      <td>0</td>\n",
              "    </tr>\n",
              "    <tr>\n",
              "      <th>seasons</th>\n",
              "      <td>116155</td>\n",
              "    </tr>\n",
              "    <tr>\n",
              "      <th>imdb_id</th>\n",
              "      <td>5234</td>\n",
              "    </tr>\n",
              "    <tr>\n",
              "      <th>imdb_score</th>\n",
              "      <td>5980</td>\n",
              "    </tr>\n",
              "    <tr>\n",
              "      <th>imdb_votes</th>\n",
              "      <td>6004</td>\n",
              "    </tr>\n",
              "    <tr>\n",
              "      <th>tmdb_popularity</th>\n",
              "      <td>13</td>\n",
              "    </tr>\n",
              "    <tr>\n",
              "      <th>tmdb_score</th>\n",
              "      <td>10239</td>\n",
              "    </tr>\n",
              "    <tr>\n",
              "      <th>person_id</th>\n",
              "      <td>0</td>\n",
              "    </tr>\n",
              "    <tr>\n",
              "      <th>name</th>\n",
              "      <td>0</td>\n",
              "    </tr>\n",
              "    <tr>\n",
              "      <th>character</th>\n",
              "      <td>16258</td>\n",
              "    </tr>\n",
              "    <tr>\n",
              "      <th>role</th>\n",
              "      <td>0</td>\n",
              "    </tr>\n",
              "  </tbody>\n",
              "</table>\n",
              "</div><br><label><b>dtype:</b> int64</label>"
            ]
          },
          "metadata": {},
          "execution_count": 15
        }
      ]
    },
    {
      "cell_type": "markdown",
      "source": [
        "The 'seasons' column has null values because it's only applicable to TV shows, Movies don't have seasons so these entries would naturally be null. Instead of removing these rows, replace them with 0."
      ],
      "metadata": {
        "id": "OjxB47D2lh0Z"
      }
    },
    {
      "cell_type": "code",
      "source": [
        "data['seasons'].fillna(0, inplace = True)"
      ],
      "metadata": {
        "id": "domsSwgnkoQP"
      },
      "execution_count": null,
      "outputs": []
    },
    {
      "cell_type": "code",
      "source": [
        "data.isnull().sum()"
      ],
      "metadata": {
        "colab": {
          "base_uri": "https://localhost:8080/",
          "height": 680
        },
        "id": "LimqumV7nudI",
        "outputId": "acc9a261-5b1e-4354-a1cd-306429f88855"
      },
      "execution_count": null,
      "outputs": [
        {
          "output_type": "execute_result",
          "data": {
            "text/plain": [
              "id                          0\n",
              "title                       0\n",
              "type                        0\n",
              "description                 0\n",
              "release_year                0\n",
              "age_certification           0\n",
              "runtime                     0\n",
              "genres                      0\n",
              "production_countries        0\n",
              "seasons                     0\n",
              "imdb_id                  5234\n",
              "imdb_score               5980\n",
              "imdb_votes               6004\n",
              "tmdb_popularity            13\n",
              "tmdb_score              10239\n",
              "person_id                   0\n",
              "name                        0\n",
              "character               16258\n",
              "role                        0\n",
              "dtype: int64"
            ],
            "text/html": [
              "<div>\n",
              "<style scoped>\n",
              "    .dataframe tbody tr th:only-of-type {\n",
              "        vertical-align: middle;\n",
              "    }\n",
              "\n",
              "    .dataframe tbody tr th {\n",
              "        vertical-align: top;\n",
              "    }\n",
              "\n",
              "    .dataframe thead th {\n",
              "        text-align: right;\n",
              "    }\n",
              "</style>\n",
              "<table border=\"1\" class=\"dataframe\">\n",
              "  <thead>\n",
              "    <tr style=\"text-align: right;\">\n",
              "      <th></th>\n",
              "      <th>0</th>\n",
              "    </tr>\n",
              "  </thead>\n",
              "  <tbody>\n",
              "    <tr>\n",
              "      <th>id</th>\n",
              "      <td>0</td>\n",
              "    </tr>\n",
              "    <tr>\n",
              "      <th>title</th>\n",
              "      <td>0</td>\n",
              "    </tr>\n",
              "    <tr>\n",
              "      <th>type</th>\n",
              "      <td>0</td>\n",
              "    </tr>\n",
              "    <tr>\n",
              "      <th>description</th>\n",
              "      <td>0</td>\n",
              "    </tr>\n",
              "    <tr>\n",
              "      <th>release_year</th>\n",
              "      <td>0</td>\n",
              "    </tr>\n",
              "    <tr>\n",
              "      <th>age_certification</th>\n",
              "      <td>0</td>\n",
              "    </tr>\n",
              "    <tr>\n",
              "      <th>runtime</th>\n",
              "      <td>0</td>\n",
              "    </tr>\n",
              "    <tr>\n",
              "      <th>genres</th>\n",
              "      <td>0</td>\n",
              "    </tr>\n",
              "    <tr>\n",
              "      <th>production_countries</th>\n",
              "      <td>0</td>\n",
              "    </tr>\n",
              "    <tr>\n",
              "      <th>seasons</th>\n",
              "      <td>0</td>\n",
              "    </tr>\n",
              "    <tr>\n",
              "      <th>imdb_id</th>\n",
              "      <td>5234</td>\n",
              "    </tr>\n",
              "    <tr>\n",
              "      <th>imdb_score</th>\n",
              "      <td>5980</td>\n",
              "    </tr>\n",
              "    <tr>\n",
              "      <th>imdb_votes</th>\n",
              "      <td>6004</td>\n",
              "    </tr>\n",
              "    <tr>\n",
              "      <th>tmdb_popularity</th>\n",
              "      <td>13</td>\n",
              "    </tr>\n",
              "    <tr>\n",
              "      <th>tmdb_score</th>\n",
              "      <td>10239</td>\n",
              "    </tr>\n",
              "    <tr>\n",
              "      <th>person_id</th>\n",
              "      <td>0</td>\n",
              "    </tr>\n",
              "    <tr>\n",
              "      <th>name</th>\n",
              "      <td>0</td>\n",
              "    </tr>\n",
              "    <tr>\n",
              "      <th>character</th>\n",
              "      <td>16258</td>\n",
              "    </tr>\n",
              "    <tr>\n",
              "      <th>role</th>\n",
              "      <td>0</td>\n",
              "    </tr>\n",
              "  </tbody>\n",
              "</table>\n",
              "</div><br><label><b>dtype:</b> int64</label>"
            ]
          },
          "metadata": {},
          "execution_count": 17
        }
      ]
    },
    {
      "cell_type": "markdown",
      "source": [
        "Since 'imdb_id' is unique for Movies and TV shows, we will drop all null entries in 'imdb_id' columns."
      ],
      "metadata": {
        "id": "uOei2_K1pmjk"
      }
    },
    {
      "cell_type": "code",
      "source": [
        "data.dropna(subset = ['imdb_id'], inplace = True)"
      ],
      "metadata": {
        "id": "vwfohw0LpjBT"
      },
      "execution_count": null,
      "outputs": []
    },
    {
      "cell_type": "code",
      "source": [
        "data.isnull().sum()"
      ],
      "metadata": {
        "colab": {
          "base_uri": "https://localhost:8080/",
          "height": 680
        },
        "id": "plcy0gnwpdx4",
        "outputId": "3e51d115-5414-4cce-bd91-d0b6bf346036"
      },
      "execution_count": null,
      "outputs": [
        {
          "output_type": "execute_result",
          "data": {
            "text/plain": [
              "id                          0\n",
              "title                       0\n",
              "type                        0\n",
              "description                 0\n",
              "release_year                0\n",
              "age_certification           0\n",
              "runtime                     0\n",
              "genres                      0\n",
              "production_countries        0\n",
              "seasons                     0\n",
              "imdb_id                     0\n",
              "imdb_score                746\n",
              "imdb_votes                770\n",
              "tmdb_popularity            13\n",
              "tmdb_score               9118\n",
              "person_id                   0\n",
              "name                        0\n",
              "character               14989\n",
              "role                        0\n",
              "dtype: int64"
            ],
            "text/html": [
              "<div>\n",
              "<style scoped>\n",
              "    .dataframe tbody tr th:only-of-type {\n",
              "        vertical-align: middle;\n",
              "    }\n",
              "\n",
              "    .dataframe tbody tr th {\n",
              "        vertical-align: top;\n",
              "    }\n",
              "\n",
              "    .dataframe thead th {\n",
              "        text-align: right;\n",
              "    }\n",
              "</style>\n",
              "<table border=\"1\" class=\"dataframe\">\n",
              "  <thead>\n",
              "    <tr style=\"text-align: right;\">\n",
              "      <th></th>\n",
              "      <th>0</th>\n",
              "    </tr>\n",
              "  </thead>\n",
              "  <tbody>\n",
              "    <tr>\n",
              "      <th>id</th>\n",
              "      <td>0</td>\n",
              "    </tr>\n",
              "    <tr>\n",
              "      <th>title</th>\n",
              "      <td>0</td>\n",
              "    </tr>\n",
              "    <tr>\n",
              "      <th>type</th>\n",
              "      <td>0</td>\n",
              "    </tr>\n",
              "    <tr>\n",
              "      <th>description</th>\n",
              "      <td>0</td>\n",
              "    </tr>\n",
              "    <tr>\n",
              "      <th>release_year</th>\n",
              "      <td>0</td>\n",
              "    </tr>\n",
              "    <tr>\n",
              "      <th>age_certification</th>\n",
              "      <td>0</td>\n",
              "    </tr>\n",
              "    <tr>\n",
              "      <th>runtime</th>\n",
              "      <td>0</td>\n",
              "    </tr>\n",
              "    <tr>\n",
              "      <th>genres</th>\n",
              "      <td>0</td>\n",
              "    </tr>\n",
              "    <tr>\n",
              "      <th>production_countries</th>\n",
              "      <td>0</td>\n",
              "    </tr>\n",
              "    <tr>\n",
              "      <th>seasons</th>\n",
              "      <td>0</td>\n",
              "    </tr>\n",
              "    <tr>\n",
              "      <th>imdb_id</th>\n",
              "      <td>0</td>\n",
              "    </tr>\n",
              "    <tr>\n",
              "      <th>imdb_score</th>\n",
              "      <td>746</td>\n",
              "    </tr>\n",
              "    <tr>\n",
              "      <th>imdb_votes</th>\n",
              "      <td>770</td>\n",
              "    </tr>\n",
              "    <tr>\n",
              "      <th>tmdb_popularity</th>\n",
              "      <td>13</td>\n",
              "    </tr>\n",
              "    <tr>\n",
              "      <th>tmdb_score</th>\n",
              "      <td>9118</td>\n",
              "    </tr>\n",
              "    <tr>\n",
              "      <th>person_id</th>\n",
              "      <td>0</td>\n",
              "    </tr>\n",
              "    <tr>\n",
              "      <th>name</th>\n",
              "      <td>0</td>\n",
              "    </tr>\n",
              "    <tr>\n",
              "      <th>character</th>\n",
              "      <td>14989</td>\n",
              "    </tr>\n",
              "    <tr>\n",
              "      <th>role</th>\n",
              "      <td>0</td>\n",
              "    </tr>\n",
              "  </tbody>\n",
              "</table>\n",
              "</div><br><label><b>dtype:</b> int64</label>"
            ]
          },
          "metadata": {},
          "execution_count": 19
        }
      ]
    },
    {
      "cell_type": "markdown",
      "source": [
        "'imdb_score' represents the rating of a Movie or TV show, removing null values in 'imdb_score' might lead to data loss it's better to replace them with mean."
      ],
      "metadata": {
        "id": "eHr0EcA_s96B"
      }
    },
    {
      "cell_type": "code",
      "source": [
        "round(data['imdb_score'].mean(),1)"
      ],
      "metadata": {
        "colab": {
          "base_uri": "https://localhost:8080/"
        },
        "id": "6NbJhqwQrU2N",
        "outputId": "0f764ee1-e330-40c1-97c7-b2d21f6f1dff"
      },
      "execution_count": null,
      "outputs": [
        {
          "output_type": "execute_result",
          "data": {
            "text/plain": [
              "np.float64(6.0)"
            ]
          },
          "metadata": {},
          "execution_count": 20
        }
      ]
    },
    {
      "cell_type": "code",
      "source": [
        "data['imdb_score'].fillna(round(data['imdb_score'].mean(),1), inplace = True)"
      ],
      "metadata": {
        "id": "rHkDBWwYus77"
      },
      "execution_count": null,
      "outputs": []
    },
    {
      "cell_type": "code",
      "source": [
        "data.shape"
      ],
      "metadata": {
        "colab": {
          "base_uri": "https://localhost:8080/"
        },
        "id": "JxSJ3tnqvIPg",
        "outputId": "5cc65420-83a0-48e3-fc23-8046a2cc9432"
      },
      "execution_count": null,
      "outputs": [
        {
          "output_type": "execute_result",
          "data": {
            "text/plain": [
              "(119022, 19)"
            ]
          },
          "metadata": {},
          "execution_count": 22
        }
      ]
    },
    {
      "cell_type": "markdown",
      "source": [
        "'imdb_votes' represents the number of votes a Movie or TV show has recieved. Missing values in 'imdb_votes' may indicate movie is relatively new or has not gained much attention. It's better to replace the null values with 0."
      ],
      "metadata": {
        "id": "xhUqmgXkD9zj"
      }
    },
    {
      "cell_type": "code",
      "source": [
        "data['imdb_votes'].fillna(0, inplace = True)"
      ],
      "metadata": {
        "id": "_M_X0nBcvg0L"
      },
      "execution_count": null,
      "outputs": []
    },
    {
      "cell_type": "code",
      "source": [
        "data.isnull().sum()"
      ],
      "metadata": {
        "colab": {
          "base_uri": "https://localhost:8080/",
          "height": 680
        },
        "id": "tkFlVMK0GsBe",
        "outputId": "48077a2e-8a29-4700-891f-62f40310ac81"
      },
      "execution_count": null,
      "outputs": [
        {
          "output_type": "execute_result",
          "data": {
            "text/plain": [
              "id                          0\n",
              "title                       0\n",
              "type                        0\n",
              "description                 0\n",
              "release_year                0\n",
              "age_certification           0\n",
              "runtime                     0\n",
              "genres                      0\n",
              "production_countries        0\n",
              "seasons                     0\n",
              "imdb_id                     0\n",
              "imdb_score                  0\n",
              "imdb_votes                  0\n",
              "tmdb_popularity            13\n",
              "tmdb_score               9118\n",
              "person_id                   0\n",
              "name                        0\n",
              "character               14989\n",
              "role                        0\n",
              "dtype: int64"
            ],
            "text/html": [
              "<div>\n",
              "<style scoped>\n",
              "    .dataframe tbody tr th:only-of-type {\n",
              "        vertical-align: middle;\n",
              "    }\n",
              "\n",
              "    .dataframe tbody tr th {\n",
              "        vertical-align: top;\n",
              "    }\n",
              "\n",
              "    .dataframe thead th {\n",
              "        text-align: right;\n",
              "    }\n",
              "</style>\n",
              "<table border=\"1\" class=\"dataframe\">\n",
              "  <thead>\n",
              "    <tr style=\"text-align: right;\">\n",
              "      <th></th>\n",
              "      <th>0</th>\n",
              "    </tr>\n",
              "  </thead>\n",
              "  <tbody>\n",
              "    <tr>\n",
              "      <th>id</th>\n",
              "      <td>0</td>\n",
              "    </tr>\n",
              "    <tr>\n",
              "      <th>title</th>\n",
              "      <td>0</td>\n",
              "    </tr>\n",
              "    <tr>\n",
              "      <th>type</th>\n",
              "      <td>0</td>\n",
              "    </tr>\n",
              "    <tr>\n",
              "      <th>description</th>\n",
              "      <td>0</td>\n",
              "    </tr>\n",
              "    <tr>\n",
              "      <th>release_year</th>\n",
              "      <td>0</td>\n",
              "    </tr>\n",
              "    <tr>\n",
              "      <th>age_certification</th>\n",
              "      <td>0</td>\n",
              "    </tr>\n",
              "    <tr>\n",
              "      <th>runtime</th>\n",
              "      <td>0</td>\n",
              "    </tr>\n",
              "    <tr>\n",
              "      <th>genres</th>\n",
              "      <td>0</td>\n",
              "    </tr>\n",
              "    <tr>\n",
              "      <th>production_countries</th>\n",
              "      <td>0</td>\n",
              "    </tr>\n",
              "    <tr>\n",
              "      <th>seasons</th>\n",
              "      <td>0</td>\n",
              "    </tr>\n",
              "    <tr>\n",
              "      <th>imdb_id</th>\n",
              "      <td>0</td>\n",
              "    </tr>\n",
              "    <tr>\n",
              "      <th>imdb_score</th>\n",
              "      <td>0</td>\n",
              "    </tr>\n",
              "    <tr>\n",
              "      <th>imdb_votes</th>\n",
              "      <td>0</td>\n",
              "    </tr>\n",
              "    <tr>\n",
              "      <th>tmdb_popularity</th>\n",
              "      <td>13</td>\n",
              "    </tr>\n",
              "    <tr>\n",
              "      <th>tmdb_score</th>\n",
              "      <td>9118</td>\n",
              "    </tr>\n",
              "    <tr>\n",
              "      <th>person_id</th>\n",
              "      <td>0</td>\n",
              "    </tr>\n",
              "    <tr>\n",
              "      <th>name</th>\n",
              "      <td>0</td>\n",
              "    </tr>\n",
              "    <tr>\n",
              "      <th>character</th>\n",
              "      <td>14989</td>\n",
              "    </tr>\n",
              "    <tr>\n",
              "      <th>role</th>\n",
              "      <td>0</td>\n",
              "    </tr>\n",
              "  </tbody>\n",
              "</table>\n",
              "</div><br><label><b>dtype:</b> int64</label>"
            ]
          },
          "metadata": {},
          "execution_count": 24
        }
      ]
    },
    {
      "cell_type": "code",
      "source": [
        "# replace null values in 'tmdb_popularity' column with mean\n",
        "round(data['tmdb_popularity'].mean(),2)"
      ],
      "metadata": {
        "colab": {
          "base_uri": "https://localhost:8080/"
        },
        "id": "hsI2KBofH5q1",
        "outputId": "f4543c06-41c6-4e53-a840-e1074ce4d7e2"
      },
      "execution_count": null,
      "outputs": [
        {
          "output_type": "execute_result",
          "data": {
            "text/plain": [
              "np.float64(10.32)"
            ]
          },
          "metadata": {},
          "execution_count": 25
        }
      ]
    },
    {
      "cell_type": "code",
      "source": [
        "data['tmdb_popularity'].fillna(round(data['tmdb_popularity'].mean(),2), inplace =True)"
      ],
      "metadata": {
        "id": "7UL_XRNEI3QO"
      },
      "execution_count": null,
      "outputs": []
    },
    {
      "cell_type": "code",
      "source": [
        "# replace null values in 'tmdb_score' column with mean\n",
        "round(data['tmdb_score'].mean(),1)"
      ],
      "metadata": {
        "colab": {
          "base_uri": "https://localhost:8080/"
        },
        "id": "9x5_DzUpJawN",
        "outputId": "67d6aec0-199f-41f7-9750-673b90b1ce34"
      },
      "execution_count": null,
      "outputs": [
        {
          "output_type": "execute_result",
          "data": {
            "text/plain": [
              "np.float64(6.0)"
            ]
          },
          "metadata": {},
          "execution_count": 27
        }
      ]
    },
    {
      "cell_type": "code",
      "source": [
        "data['tmdb_score'].fillna(round(data['tmdb_score'].mean(),1), inplace = True)"
      ],
      "metadata": {
        "id": "UexXXkTCKd06"
      },
      "execution_count": null,
      "outputs": []
    },
    {
      "cell_type": "markdown",
      "source": [
        "Missing values in the 'characters' column indicate that the information about the character played by a person in movie or TV show is not available in the dataset. So replace them by 'unknown'"
      ],
      "metadata": {
        "id": "ui12LBmwK4dz"
      }
    },
    {
      "cell_type": "code",
      "source": [
        "data['character'].fillna('unknown', inplace = True)"
      ],
      "metadata": {
        "id": "0UXapYUAKm5Y"
      },
      "execution_count": null,
      "outputs": []
    },
    {
      "cell_type": "code",
      "source": [
        "data.isnull().sum()"
      ],
      "metadata": {
        "colab": {
          "base_uri": "https://localhost:8080/",
          "height": 680
        },
        "id": "qnR5IPtGMF6_",
        "outputId": "e2131229-eac2-474a-d062-07051d59797e"
      },
      "execution_count": null,
      "outputs": [
        {
          "output_type": "execute_result",
          "data": {
            "text/plain": [
              "id                      0\n",
              "title                   0\n",
              "type                    0\n",
              "description             0\n",
              "release_year            0\n",
              "age_certification       0\n",
              "runtime                 0\n",
              "genres                  0\n",
              "production_countries    0\n",
              "seasons                 0\n",
              "imdb_id                 0\n",
              "imdb_score              0\n",
              "imdb_votes              0\n",
              "tmdb_popularity         0\n",
              "tmdb_score              0\n",
              "person_id               0\n",
              "name                    0\n",
              "character               0\n",
              "role                    0\n",
              "dtype: int64"
            ],
            "text/html": [
              "<div>\n",
              "<style scoped>\n",
              "    .dataframe tbody tr th:only-of-type {\n",
              "        vertical-align: middle;\n",
              "    }\n",
              "\n",
              "    .dataframe tbody tr th {\n",
              "        vertical-align: top;\n",
              "    }\n",
              "\n",
              "    .dataframe thead th {\n",
              "        text-align: right;\n",
              "    }\n",
              "</style>\n",
              "<table border=\"1\" class=\"dataframe\">\n",
              "  <thead>\n",
              "    <tr style=\"text-align: right;\">\n",
              "      <th></th>\n",
              "      <th>0</th>\n",
              "    </tr>\n",
              "  </thead>\n",
              "  <tbody>\n",
              "    <tr>\n",
              "      <th>id</th>\n",
              "      <td>0</td>\n",
              "    </tr>\n",
              "    <tr>\n",
              "      <th>title</th>\n",
              "      <td>0</td>\n",
              "    </tr>\n",
              "    <tr>\n",
              "      <th>type</th>\n",
              "      <td>0</td>\n",
              "    </tr>\n",
              "    <tr>\n",
              "      <th>description</th>\n",
              "      <td>0</td>\n",
              "    </tr>\n",
              "    <tr>\n",
              "      <th>release_year</th>\n",
              "      <td>0</td>\n",
              "    </tr>\n",
              "    <tr>\n",
              "      <th>age_certification</th>\n",
              "      <td>0</td>\n",
              "    </tr>\n",
              "    <tr>\n",
              "      <th>runtime</th>\n",
              "      <td>0</td>\n",
              "    </tr>\n",
              "    <tr>\n",
              "      <th>genres</th>\n",
              "      <td>0</td>\n",
              "    </tr>\n",
              "    <tr>\n",
              "      <th>production_countries</th>\n",
              "      <td>0</td>\n",
              "    </tr>\n",
              "    <tr>\n",
              "      <th>seasons</th>\n",
              "      <td>0</td>\n",
              "    </tr>\n",
              "    <tr>\n",
              "      <th>imdb_id</th>\n",
              "      <td>0</td>\n",
              "    </tr>\n",
              "    <tr>\n",
              "      <th>imdb_score</th>\n",
              "      <td>0</td>\n",
              "    </tr>\n",
              "    <tr>\n",
              "      <th>imdb_votes</th>\n",
              "      <td>0</td>\n",
              "    </tr>\n",
              "    <tr>\n",
              "      <th>tmdb_popularity</th>\n",
              "      <td>0</td>\n",
              "    </tr>\n",
              "    <tr>\n",
              "      <th>tmdb_score</th>\n",
              "      <td>0</td>\n",
              "    </tr>\n",
              "    <tr>\n",
              "      <th>person_id</th>\n",
              "      <td>0</td>\n",
              "    </tr>\n",
              "    <tr>\n",
              "      <th>name</th>\n",
              "      <td>0</td>\n",
              "    </tr>\n",
              "    <tr>\n",
              "      <th>character</th>\n",
              "      <td>0</td>\n",
              "    </tr>\n",
              "    <tr>\n",
              "      <th>role</th>\n",
              "      <td>0</td>\n",
              "    </tr>\n",
              "  </tbody>\n",
              "</table>\n",
              "</div><br><label><b>dtype:</b> int64</label>"
            ]
          },
          "metadata": {},
          "execution_count": 30
        }
      ]
    },
    {
      "cell_type": "code",
      "source": [
        "data.shape"
      ],
      "metadata": {
        "id": "mnFnQem8MNHH",
        "outputId": "5c123ec3-9ac2-490f-c877-0d071c28d3f5",
        "colab": {
          "base_uri": "https://localhost:8080/"
        }
      },
      "execution_count": null,
      "outputs": [
        {
          "output_type": "execute_result",
          "data": {
            "text/plain": [
              "(119022, 19)"
            ]
          },
          "metadata": {},
          "execution_count": 31
        }
      ]
    },
    {
      "cell_type": "markdown",
      "source": [
        "##**Check for Duplicate values**"
      ],
      "metadata": {
        "id": "t8XbCRpr0a-Q"
      }
    },
    {
      "cell_type": "code",
      "source": [
        "data.duplicated().sum()"
      ],
      "metadata": {
        "colab": {
          "base_uri": "https://localhost:8080/"
        },
        "id": "xOz7HO7J0jzk",
        "outputId": "9431d082-7ae9-4a07-a009-f701e0c28790"
      },
      "execution_count": null,
      "outputs": [
        {
          "output_type": "execute_result",
          "data": {
            "text/plain": [
              "np.int64(168)"
            ]
          },
          "metadata": {},
          "execution_count": 33
        }
      ]
    },
    {
      "cell_type": "markdown",
      "source": [
        "We have 168 duplicates in dataset, we will drop all the duplicate values"
      ],
      "metadata": {
        "id": "n4O0d0SK038z"
      }
    },
    {
      "cell_type": "code",
      "source": [
        "data.drop_duplicates(inplace = True)"
      ],
      "metadata": {
        "id": "a9FwA3us02XS"
      },
      "execution_count": null,
      "outputs": []
    },
    {
      "cell_type": "code",
      "source": [
        "data.duplicated().sum()"
      ],
      "metadata": {
        "colab": {
          "base_uri": "https://localhost:8080/"
        },
        "id": "bYdeQece1MLl",
        "outputId": "9b4f4e3e-2c39-45e5-a877-770ac22b7fdd"
      },
      "execution_count": null,
      "outputs": [
        {
          "output_type": "execute_result",
          "data": {
            "text/plain": [
              "np.int64(0)"
            ]
          },
          "metadata": {},
          "execution_count": 36
        }
      ]
    },
    {
      "cell_type": "code",
      "source": [
        "data.dtypes"
      ],
      "metadata": {
        "colab": {
          "base_uri": "https://localhost:8080/",
          "height": 680
        },
        "id": "3tpBXCAm1cyI",
        "outputId": "e589ec20-c4ed-4678-8dae-1d5336738e79"
      },
      "execution_count": null,
      "outputs": [
        {
          "output_type": "execute_result",
          "data": {
            "text/plain": [
              "id                       object\n",
              "title                    object\n",
              "type                     object\n",
              "description              object\n",
              "release_year              int64\n",
              "age_certification        object\n",
              "runtime                   int64\n",
              "genres                   object\n",
              "production_countries     object\n",
              "seasons                 float64\n",
              "imdb_id                  object\n",
              "imdb_score              float64\n",
              "imdb_votes              float64\n",
              "tmdb_popularity         float64\n",
              "tmdb_score              float64\n",
              "person_id                 int64\n",
              "name                     object\n",
              "character                object\n",
              "role                     object\n",
              "dtype: object"
            ],
            "text/html": [
              "<div>\n",
              "<style scoped>\n",
              "    .dataframe tbody tr th:only-of-type {\n",
              "        vertical-align: middle;\n",
              "    }\n",
              "\n",
              "    .dataframe tbody tr th {\n",
              "        vertical-align: top;\n",
              "    }\n",
              "\n",
              "    .dataframe thead th {\n",
              "        text-align: right;\n",
              "    }\n",
              "</style>\n",
              "<table border=\"1\" class=\"dataframe\">\n",
              "  <thead>\n",
              "    <tr style=\"text-align: right;\">\n",
              "      <th></th>\n",
              "      <th>0</th>\n",
              "    </tr>\n",
              "  </thead>\n",
              "  <tbody>\n",
              "    <tr>\n",
              "      <th>id</th>\n",
              "      <td>object</td>\n",
              "    </tr>\n",
              "    <tr>\n",
              "      <th>title</th>\n",
              "      <td>object</td>\n",
              "    </tr>\n",
              "    <tr>\n",
              "      <th>type</th>\n",
              "      <td>object</td>\n",
              "    </tr>\n",
              "    <tr>\n",
              "      <th>description</th>\n",
              "      <td>object</td>\n",
              "    </tr>\n",
              "    <tr>\n",
              "      <th>release_year</th>\n",
              "      <td>int64</td>\n",
              "    </tr>\n",
              "    <tr>\n",
              "      <th>age_certification</th>\n",
              "      <td>object</td>\n",
              "    </tr>\n",
              "    <tr>\n",
              "      <th>runtime</th>\n",
              "      <td>int64</td>\n",
              "    </tr>\n",
              "    <tr>\n",
              "      <th>genres</th>\n",
              "      <td>object</td>\n",
              "    </tr>\n",
              "    <tr>\n",
              "      <th>production_countries</th>\n",
              "      <td>object</td>\n",
              "    </tr>\n",
              "    <tr>\n",
              "      <th>seasons</th>\n",
              "      <td>float64</td>\n",
              "    </tr>\n",
              "    <tr>\n",
              "      <th>imdb_id</th>\n",
              "      <td>object</td>\n",
              "    </tr>\n",
              "    <tr>\n",
              "      <th>imdb_score</th>\n",
              "      <td>float64</td>\n",
              "    </tr>\n",
              "    <tr>\n",
              "      <th>imdb_votes</th>\n",
              "      <td>float64</td>\n",
              "    </tr>\n",
              "    <tr>\n",
              "      <th>tmdb_popularity</th>\n",
              "      <td>float64</td>\n",
              "    </tr>\n",
              "    <tr>\n",
              "      <th>tmdb_score</th>\n",
              "      <td>float64</td>\n",
              "    </tr>\n",
              "    <tr>\n",
              "      <th>person_id</th>\n",
              "      <td>int64</td>\n",
              "    </tr>\n",
              "    <tr>\n",
              "      <th>name</th>\n",
              "      <td>object</td>\n",
              "    </tr>\n",
              "    <tr>\n",
              "      <th>character</th>\n",
              "      <td>object</td>\n",
              "    </tr>\n",
              "    <tr>\n",
              "      <th>role</th>\n",
              "      <td>object</td>\n",
              "    </tr>\n",
              "  </tbody>\n",
              "</table>\n",
              "</div><br><label><b>dtype:</b> object</label>"
            ]
          },
          "metadata": {},
          "execution_count": 37
        }
      ]
    },
    {
      "cell_type": "markdown",
      "source": [
        "As we can see dataset is clean and ready for further analysis, The manipulations performed on given data are as follows,\n",
        "1. **Data Loading and Merging** : Two datasets, titles.csv and credits.csv, were loaded and merged based on the common column 'id'.\n",
        "2. **Handling Missing Values** :\n",
        "- Null values in the 'description' and 'imdb_id' columns were dropped.\n",
        "- Null values in 'age_certification' were replaced with the mode.\n",
        "- Null values in 'seasons', 'imdb_votes', and 'character' were replaced with 0, 0, and 'unknown', respectively.\n",
        "- Null values in 'imdb_score', 'tmdb_popularity', and 'tmdb_score' were replaced with their respective means.\n",
        "3. **Handling Duplicates** : Duplicate rows identified and removed from the dataset."
      ],
      "metadata": {
        "id": "E9L_cWpG3SKk"
      }
    },
    {
      "cell_type": "markdown",
      "source": [
        "#**Data Vizualization**"
      ],
      "metadata": {
        "id": "-PSP2Z3S4-I6"
      }
    },
    {
      "cell_type": "markdown",
      "source": [
        "Data visualization is the graphical representation of information and data. By using visual elements like charts, graphs, and maps, data visualization tools provide an accessible way to see and understand trends, outliers, and patterns in data."
      ],
      "metadata": {
        "id": "Fq39auQQ5O43"
      }
    },
    {
      "cell_type": "markdown",
      "source": [
        "##Univariate Analysis"
      ],
      "metadata": {
        "id": "LezRbPJI6A_Q"
      }
    },
    {
      "cell_type": "markdown",
      "source": [
        "1. Box plot of imdb_score"
      ],
      "metadata": {
        "id": "bBGtxzXg7lMM"
      }
    },
    {
      "cell_type": "markdown",
      "source": [
        "2. histogram\n",
        "- release_year\n",
        "- runtime"
      ],
      "metadata": {
        "id": "Dz88IF6n90fL"
      }
    },
    {
      "cell_type": "markdown",
      "source": [
        "3. Bar plot/count plot\n",
        "- type(TV show or Movie)\n",
        "- production_countries\n",
        "- agr_certification"
      ],
      "metadata": {
        "id": "M2oAh5XE-kB9"
      }
    },
    {
      "cell_type": "markdown",
      "source": [
        "##Bivariate Analysis"
      ],
      "metadata": {
        "id": "7rK_0_Q9_DXq"
      }
    },
    {
      "cell_type": "markdown",
      "source": [
        "1. scatter plot\n",
        "- You might want to see if there's a relationship between imdb_score and tmdb_popularity (to check if higher-rated titles are also more popular).\n",
        "- You might want to check the relationship between release_year and runtime of the title.\n",
        "- You might want to see if there's a relationship between imdb_score and imdb_votes."
      ],
      "metadata": {
        "id": "IJ8x2iVO_iB3"
      }
    },
    {
      "cell_type": "markdown",
      "source": [
        "2. line plot\n",
        "**release_year vs. imdb_score**\n",
        "Reasoning: To visualize the trend of average IMDb scores of titles over the years. This can help you identify if movie/show quality (as reflected by IMDb scores) has been improving or declining over time.\n",
        "\n",
        "**release_year vs. tmdb_popularity**\n",
        "Reasoning: To track the trend of average TMDb popularity of titles over the years. This could reveal if movies/shows have become more or less popular over time.\n",
        "\n",
        "**release_year vs. runtime**\n",
        "Reasoning: To analyze how the average runtime of titles has changed over the years. This could show if movies/shows have been getting longer or shorter.\n",
        "\n",
        "**seasons vs. imdb_score (for TV Shows only)**\n",
        "Reasoning: To visualize the trend of IMDb scores for TV shows with different numbers of seasons. This can help you understand if shows with more seasons tend to be rated higher or lower.\n",
        "\n",
        "**seasons vs. tmdb_popularity (for TV Shows only)**\n",
        "Reasoning: To track the trend of TMDb popularity for TV shows with different numbers of seasons. This could reveal if shows with more seasons tend to be more or less popular."
      ],
      "metadata": {
        "id": "dw4kRnZM__zj"
      }
    },
    {
      "cell_type": "markdown",
      "source": [
        "## Multivariable Analysis\n"
      ],
      "metadata": {
        "id": "JlcvyL7AA6JV"
      }
    },
    {
      "cell_type": "markdown",
      "source": [
        "1. Pair plot"
      ],
      "metadata": {
        "id": "4VCOcPEuBbnJ"
      }
    },
    {
      "cell_type": "markdown",
      "source": [
        "2. Heatmap"
      ],
      "metadata": {
        "id": "nHm-tkN9BgmY"
      }
    }
  ]
}